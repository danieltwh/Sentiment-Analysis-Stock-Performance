{
  "nbformat": 4,
  "nbformat_minor": 0,
  "metadata": {
    "colab": {
      "name": "yfinance_stock_prices.ipynb",
      "provenance": [],
      "collapsed_sections": [],
      "authorship_tag": "ABX9TyOv+AGyk2H7Hx1JFTuq6yWo",
      "include_colab_link": true
    },
    "kernelspec": {
      "name": "python3",
      "display_name": "Python 3"
    },
    "language_info": {
      "name": "python"
    }
  },
  "cells": [
    {
      "cell_type": "markdown",
      "metadata": {
        "id": "view-in-github",
        "colab_type": "text"
      },
      "source": [
        "<a href=\"https://colab.research.google.com/github/danieltwh/Sentiment-Analysis-Stock-Performance/blob/yilin/yfinance_stock_prices.ipynb\" target=\"_parent\"><img src=\"https://colab.research.google.com/assets/colab-badge.svg\" alt=\"Open In Colab\"/></a>"
      ]
    },
    {
      "cell_type": "code",
      "execution_count": null,
      "metadata": {
        "colab": {
          "base_uri": "https://localhost:8080/"
        },
        "id": "MdAm-2Cw6Is9",
        "outputId": "c88cabf8-6165-493c-e774-b5097f7cffbd"
      },
      "outputs": [
        {
          "output_type": "stream",
          "name": "stdout",
          "text": [
            "Mounted at /content/drive\n"
          ]
        }
      ],
      "source": [
        "# mount google drive to colab\n",
        "\n",
        "from google.colab import drive\n",
        "drive.mount('/content/drive')"
      ]
    },
    {
      "cell_type": "code",
      "source": [
        "# install dependencies\n",
        "\n",
        "!pip install yfinance"
      ],
      "metadata": {
        "colab": {
          "base_uri": "https://localhost:8080/"
        },
        "id": "CjldkAw18k52",
        "outputId": "175165d4-1601-45bd-a6af-e6b3d3914af0"
      },
      "execution_count": null,
      "outputs": [
        {
          "output_type": "stream",
          "name": "stdout",
          "text": [
            "Looking in indexes: https://pypi.org/simple, https://us-python.pkg.dev/colab-wheels/public/simple/\n",
            "Collecting yfinance\n",
            "  Downloading yfinance-0.1.74-py2.py3-none-any.whl (27 kB)\n",
            "Requirement already satisfied: pandas>=0.24.0 in /usr/local/lib/python3.7/dist-packages (from yfinance) (1.3.5)\n",
            "Requirement already satisfied: numpy>=1.15 in /usr/local/lib/python3.7/dist-packages (from yfinance) (1.21.6)\n",
            "Requirement already satisfied: lxml>=4.5.1 in /usr/local/lib/python3.7/dist-packages (from yfinance) (4.9.1)\n",
            "Collecting requests>=2.26\n",
            "  Downloading requests-2.28.1-py3-none-any.whl (62 kB)\n",
            "\u001b[K     |████████████████████████████████| 62 kB 1.2 MB/s \n",
            "\u001b[?25hRequirement already satisfied: multitasking>=0.0.7 in /usr/local/lib/python3.7/dist-packages (from yfinance) (0.0.11)\n",
            "Requirement already satisfied: pytz>=2017.3 in /usr/local/lib/python3.7/dist-packages (from pandas>=0.24.0->yfinance) (2022.1)\n",
            "Requirement already satisfied: python-dateutil>=2.7.3 in /usr/local/lib/python3.7/dist-packages (from pandas>=0.24.0->yfinance) (2.8.2)\n",
            "Requirement already satisfied: six>=1.5 in /usr/local/lib/python3.7/dist-packages (from python-dateutil>=2.7.3->pandas>=0.24.0->yfinance) (1.15.0)\n",
            "Requirement already satisfied: charset-normalizer<3,>=2 in /usr/local/lib/python3.7/dist-packages (from requests>=2.26->yfinance) (2.1.0)\n",
            "Requirement already satisfied: urllib3<1.27,>=1.21.1 in /usr/local/lib/python3.7/dist-packages (from requests>=2.26->yfinance) (1.24.3)\n",
            "Requirement already satisfied: idna<4,>=2.5 in /usr/local/lib/python3.7/dist-packages (from requests>=2.26->yfinance) (2.10)\n",
            "Requirement already satisfied: certifi>=2017.4.17 in /usr/local/lib/python3.7/dist-packages (from requests>=2.26->yfinance) (2022.6.15)\n",
            "Installing collected packages: requests, yfinance\n",
            "  Attempting uninstall: requests\n",
            "    Found existing installation: requests 2.23.0\n",
            "    Uninstalling requests-2.23.0:\n",
            "      Successfully uninstalled requests-2.23.0\n",
            "Successfully installed requests-2.28.1 yfinance-0.1.74\n"
          ]
        }
      ]
    },
    {
      "cell_type": "code",
      "source": [
        "# get list of stock tickers\n",
        "\n",
        "import os\n",
        "import pandas as pd\n",
        "\n",
        "os.chdir(\"/content/drive/MyDrive/Fintech_Sentiment_Analysis_Personal/\")\n",
        "file = \"nasdaq_screener_1660407220033.csv\"\n",
        "stock_ticker_dataset = pd.read_csv(file)\n",
        "tickers = stock_ticker_dataset['Symbol'].tolist()"
      ],
      "metadata": {
        "id": "qblakZdT83vz"
      },
      "execution_count": null,
      "outputs": []
    },
    {
      "cell_type": "code",
      "source": [
        "# get stock price for first 100 tickers (using hist)\n",
        "\n",
        "import yfinance as yf\n",
        "\n",
        "def get_stock_price(ticker, start, end):\n",
        "  stock = yf.Ticker(ticker)\n",
        "  hist = stock.history(start=start, end=end)\n",
        "  hist['Ticker'] = ticker\n",
        "  return hist\n",
        "\n",
        "stocks_result = list(map(lambda ticker: get_stock_price(ticker, \"2018-01-01\", \"2022-01-31\"), \n",
        "         tickers[0:100]))\n",
        "stocks_result_df = pd.concat(stocks_result)\n",
        "stocks_result_df.to_csv(\"stock_price_hist1.csv\")"
      ],
      "metadata": {
        "id": "YnqPAYy3-aXl"
      },
      "execution_count": null,
      "outputs": []
    },
    {
      "cell_type": "code",
      "source": [
        "sp_500_result_df = get_stock_price(\"^GSPC\", \"2018-01-01\", \"2022-01-31\")\n",
        "sp_500_result_df.to_csv(\"S&P_500_hist1.csv\")"
      ],
      "metadata": {
        "id": "SaMEfnibIhxP"
      },
      "execution_count": null,
      "outputs": []
    },
    {
      "cell_type": "code",
      "source": [
        "# get stock price for first 100 tickers (using download)\n",
        "import yfinance as yf\n",
        "\n",
        "def get_all_stock_prices(ticker_list, start, end):\n",
        "  ticker_string = \" \".join(ticker_list)\n",
        "  hist = yf.download(ticker_string, start, end, group_by = 'ticker')\n",
        "  return hist\n",
        "\n",
        "stocks_result = get_all_stock_prices(tickers[0:100], \"2018-01-01\", \"2022-01-31\")\n",
        "print(stocks_result)\n",
        "stocks_result.to_csv(\"stock_price_download1.csv\")"
      ],
      "metadata": {
        "colab": {
          "base_uri": "https://localhost:8080/"
        },
        "id": "ncblzF5KYG2B",
        "outputId": "200beed0-9ec7-4ab2-b8a3-354a6fe6f919"
      },
      "execution_count": null,
      "outputs": [
        {
          "output_type": "stream",
          "name": "stdout",
          "text": [
            "[*********************100%***********************]  100 of 100 completed\n",
            "              AGL                                                      \\\n",
            "             Open    High        Low      Close  Adj Close     Volume   \n",
            "Date                                                                    \n",
            "2018-01-02    NaN     NaN        NaN        NaN        NaN        NaN   \n",
            "2018-01-03    NaN     NaN        NaN        NaN        NaN        NaN   \n",
            "2018-01-04    NaN     NaN        NaN        NaN        NaN        NaN   \n",
            "2018-01-05    NaN     NaN        NaN        NaN        NaN        NaN   \n",
            "2018-01-08    NaN     NaN        NaN        NaN        NaN        NaN   \n",
            "...           ...     ...        ...        ...        ...        ...   \n",
            "2022-01-24  15.86  17.135  14.930000  17.059999  17.059999  3120100.0   \n",
            "2022-01-25  16.52  17.010  16.120001  16.770000  16.770000  2401000.0   \n",
            "2022-01-26  17.16  17.400  15.540000  15.670000  15.670000  4204500.0   \n",
            "2022-01-27  15.92  15.920  15.010000  15.010000  15.010000  2058000.0   \n",
            "2022-01-28  15.04  15.370  14.360000  15.330000  15.330000  2071600.0   \n",
            "\n",
            "                  ACA                                   ...         ADP  \\\n",
            "                 Open       High        Low      Close  ...         Low   \n",
            "Date                                                    ...               \n",
            "2018-01-02        NaN        NaN        NaN        NaN  ...  115.250000   \n",
            "2018-01-03        NaN        NaN        NaN        NaN  ...  115.599998   \n",
            "2018-01-04        NaN        NaN        NaN        NaN  ...  117.470001   \n",
            "2018-01-05        NaN        NaN        NaN        NaN  ...  117.260002   \n",
            "2018-01-08        NaN        NaN        NaN        NaN  ...  117.389999   \n",
            "...               ...        ...        ...        ...  ...         ...   \n",
            "2022-01-24  47.139999  49.380001  46.340000  49.119999  ...  211.029999   \n",
            "2022-01-25  48.230000  49.169998  46.700001  48.480000  ...  212.740005   \n",
            "2022-01-26  49.139999  49.990002  46.509998  46.990002  ...  196.539993   \n",
            "2022-01-27  47.029999  48.070000  44.520000  44.810001  ...  194.559998   \n",
            "2022-01-28  45.000000  45.950001  43.849998  45.910000  ...  192.690002   \n",
            "\n",
            "                                                  ACGL                        \\\n",
            "                 Close   Adj Close   Volume       Open       High        Low   \n",
            "Date                                                                           \n",
            "2018-01-02  115.989998  105.598396  2453000  30.403334  30.420000  29.383333   \n",
            "2018-01-03  117.250000  106.745522  1521500  29.466667  30.016666  29.110001   \n",
            "2018-01-04  118.370003  107.765198  1236900  29.463333  29.840000  29.070000   \n",
            "2018-01-05  118.300003  107.701454  1451100  29.663334  29.870001  29.309999   \n",
            "2018-01-08  117.940002  107.373703  2683000  29.469999  29.580000  29.216667   \n",
            "...                ...         ...      ...        ...        ...        ...   \n",
            "2022-01-24  218.240005  216.131042  2981600  44.860001  45.759998  43.810001   \n",
            "2022-01-25  216.880005  214.784180  2487300  45.270000  45.610001  43.990002   \n",
            "2022-01-26  197.460007  195.551849  5686900  45.459999  45.919998  44.419998   \n",
            "2022-01-27  196.419998  194.521896  3526600  45.419998  46.169998  44.369999   \n",
            "2022-01-28  199.270004  197.344360  2261800  44.750000  45.490002  44.279999   \n",
            "\n",
            "                                           \n",
            "                Close  Adj Close   Volume  \n",
            "Date                                       \n",
            "2018-01-02  29.433332  29.433332  1333500  \n",
            "2018-01-03  29.459999  29.459999  1887600  \n",
            "2018-01-04  29.570000  29.570000  1835100  \n",
            "2018-01-05  29.453333  29.453333  1257300  \n",
            "2018-01-08  29.456667  29.456667  1380300  \n",
            "...               ...        ...      ...  \n",
            "2022-01-24  45.700001  45.700001  2056600  \n",
            "2022-01-25  45.250000  45.250000  1703900  \n",
            "2022-01-26  45.029999  45.029999  1647800  \n",
            "2022-01-27  44.779999  44.779999  1926400  \n",
            "2022-01-28  45.380001  45.380001  2416900  \n",
            "\n",
            "[1027 rows x 600 columns]\n"
          ]
        }
      ]
    },
    {
      "cell_type": "code",
      "source": [
        "sp_500_result = get_all_stock_prices([\"^GSPC\"], \"2018-01-01\", \"2022-01-31\")\n",
        "print(sp_500_result)\n",
        "sp_500_result.to_csv(\"S&P_500_download1.csv\")"
      ],
      "metadata": {
        "colab": {
          "base_uri": "https://localhost:8080/"
        },
        "id": "Zwi_lC8CbZA3",
        "outputId": "45cf6346-0e4f-4c43-a886-830a622271ec"
      },
      "execution_count": null,
      "outputs": [
        {
          "output_type": "stream",
          "name": "stdout",
          "text": [
            "\r[*********************100%***********************]  1 of 1 completed\n",
            "                   Open         High          Low        Close    Adj Close  \\\n",
            "Date                                                                          \n",
            "2018-01-02  2683.729980  2695.889893  2682.360107  2695.810059  2695.810059   \n",
            "2018-01-03  2697.850098  2714.370117  2697.770020  2713.060059  2713.060059   \n",
            "2018-01-04  2719.310059  2729.290039  2719.070068  2723.989990  2723.989990   \n",
            "2018-01-05  2731.330078  2743.449951  2727.919922  2743.149902  2743.149902   \n",
            "2018-01-08  2742.669922  2748.510010  2737.600098  2747.709961  2747.709961   \n",
            "...                 ...          ...          ...          ...          ...   \n",
            "2022-01-24  4356.319824  4417.350098  4222.620117  4410.129883  4410.129883   \n",
            "2022-01-25  4366.640137  4411.009766  4287.109863  4356.450195  4356.450195   \n",
            "2022-01-26  4408.430176  4453.229980  4304.799805  4349.930176  4349.930176   \n",
            "2022-01-27  4380.580078  4428.740234  4309.500000  4326.509766  4326.509766   \n",
            "2022-01-28  4336.189941  4432.720215  4292.459961  4431.850098  4431.850098   \n",
            "\n",
            "                Volume  \n",
            "Date                    \n",
            "2018-01-02  3367250000  \n",
            "2018-01-03  3538660000  \n",
            "2018-01-04  3695260000  \n",
            "2018-01-05  3236620000  \n",
            "2018-01-08  3242650000  \n",
            "...                ...  \n",
            "2022-01-24  5172540000  \n",
            "2022-01-25  3989420000  \n",
            "2022-01-26  4046270000  \n",
            "2022-01-27  4074330000  \n",
            "2022-01-28  3936030000  \n",
            "\n",
            "[1027 rows x 6 columns]\n"
          ]
        }
      ]
    },
    {
      "cell_type": "markdown",
      "source": [
        "https://github.com/ranaroussi/yfinance/issues/510\n",
        "\n",
        "https://github.com/ranaroussi/yfinance/issues/626"
      ],
      "metadata": {
        "id": "P07AigYeRYxH"
      }
    }
  ]
}