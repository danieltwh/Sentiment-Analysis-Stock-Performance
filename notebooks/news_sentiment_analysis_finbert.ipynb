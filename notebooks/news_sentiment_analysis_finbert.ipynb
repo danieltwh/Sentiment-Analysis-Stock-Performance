{
  "cells": [
    {
      "cell_type": "markdown",
      "metadata": {
        "id": "lfu-3hBBd-Fd"
      },
      "source": [
        "#**FinBERT Model**"
      ]
    },
    {
      "cell_type": "markdown",
      "metadata": {
        "id": "z3zqdIqegmf6"
      },
      "source": [
        "### Installing required libraries"
      ]
    },
    {
      "cell_type": "code",
      "execution_count": null,
      "metadata": {
        "id": "TNS3gurXfY01"
      },
      "outputs": [],
      "source": [
        "!pip install transformers\n",
        "!pip install datasets\n",
        "!pip install sentencepiece\n",
        "!pip install torch"
      ]
    },
    {
      "cell_type": "code",
      "execution_count": 1,
      "metadata": {
        "id": "h-vYLvztdwxw"
      },
      "outputs": [],
      "source": [
        "import pandas as pd\n",
        "import numpy as np"
      ]
    },
    {
      "cell_type": "code",
      "execution_count": null,
      "metadata": {
        "id": "f-VOeB9ye_G8"
      },
      "outputs": [],
      "source": [
        "from transformers import AutoTokenizer\n",
        "from datasets import Dataset\n",
        "from transformers import DataCollatorWithPadding\n",
        "from transformers import AutoModelForSequenceClassification, TrainingArguments, Trainer"
      ]
    },
    {
      "cell_type": "code",
      "execution_count": null,
      "metadata": {
        "id": "9gmfwg43gSpR"
      },
      "outputs": [],
      "source": [
        "from sklearn.model_selection import train_test_split\n",
        "from sklearn import preprocessing"
      ]
    },
    {
      "cell_type": "code",
      "execution_count": null,
      "metadata": {
        "id": "-OyQM26IgVag"
      },
      "outputs": [],
      "source": [
        "import torch\n",
        "from torch.utils.checkpoint import checkpoint\n",
        "import torch.nn as nn\n",
        "\n",
        "DEVICE = torch.device(\"cuda:0\" if torch.cuda.is_available() else \"cpu\")"
      ]
    },
    {
      "cell_type": "code",
      "execution_count": null,
      "metadata": {
        "id": "p22dJM5f_AXX"
      },
      "outputs": [],
      "source": [
        "torch.cuda.get_device_name(0)"
      ]
    },
    {
      "cell_type": "markdown",
      "metadata": {
        "id": "HOGkJbIthAT4"
      },
      "source": [
        "### Define configuration\n",
        "\n",
        "[Models](https://huggingface.co/models)"
      ]
    },
    {
      "cell_type": "code",
      "execution_count": null,
      "metadata": {
        "id": "dAt-60crhOAR"
      },
      "outputs": [],
      "source": [
        "model_name = \"ProsusAI/finbert\""
      ]
    },
    {
      "cell_type": "markdown",
      "metadata": {
        "id": "03o_iqVkhFbx"
      },
      "source": [
        "### Prepare data"
      ]
    },
    {
      "cell_type": "markdown",
      "metadata": {
        "id": "LaxV2V6Xj3cJ"
      },
      "source": [
        "Get data and apply simple normalisation if necessary"
      ]
    },
    {
      "cell_type": "code",
      "execution_count": null,
      "metadata": {},
      "outputs": [],
      "source": [
        "from google.colab import drive\n",
        "drive.mount('/gdrive')"
      ]
    },
    {
      "cell_type": "code",
      "execution_count": null,
      "metadata": {
        "id": "gwyUAKVLhL-R"
      },
      "outputs": [],
      "source": [
        "df = pd.read_csv(\"/gdrive/MyDrive/data/labelled_marketaux_news_combined_2022-10-15.csv\")\n",
        "df"
      ]
    },
    {
      "cell_type": "code",
      "execution_count": null,
      "metadata": {
        "id": "qAmkeJDzrPN5"
      },
      "outputs": [],
      "source": [
        "print(len(df))\n",
        "print(len(df[\"3m\"].dropna()))\n",
        "print(len(df[\"6m\"].dropna()))\n",
        "print(len(df[\"1y\"].dropna()))"
      ]
    },
    {
      "cell_type": "code",
      "execution_count": null,
      "metadata": {
        "id": "OMuUbIQfui2x"
      },
      "outputs": [],
      "source": [
        "df = df[[\"Relevant Texts\", \"3m\"]]\n",
        "df = df.dropna(subset=[\"3m\"])\n",
        "df = df.reset_index(drop = True)\n",
        "len(df)"
      ]
    },
    {
      "cell_type": "code",
      "execution_count": null,
      "metadata": {
        "id": "KsMgk8y_khZW"
      },
      "outputs": [],
      "source": [
        "def normalise(text):\n",
        "    text = text.lower()\n",
        "    return text\n",
        "\n",
        "df['Relevant Texts'] = df['Relevant Texts'].apply(normalise)"
      ]
    },
    {
      "cell_type": "code",
      "execution_count": null,
      "metadata": {
        "id": "IxoKKvMIG3SQ"
      },
      "outputs": [],
      "source": [
        "df.rename(columns = {'3m':'labels', 'Relevant Texts': 'text'}, inplace = True)"
      ]
    },
    {
      "cell_type": "code",
      "execution_count": null,
      "metadata": {
        "id": "TyA6Q3kyvtyq"
      },
      "outputs": [],
      "source": [
        "df[\"labels\"] = df[\"labels\"].astype(int)\n",
        "df.head()"
      ]
    },
    {
      "cell_type": "code",
      "execution_count": null,
      "metadata": {
        "id": "IA-K-u9nXz-l"
      },
      "outputs": [],
      "source": [
        "#0: Positive\n",
        "#1: Negative\n",
        "#2: Neutral\n",
        "df.loc[df['labels'] == 0, 'labels'] = -1 # temporary\n",
        "df.loc[df['labels'] == 2, 'labels'] = 0\n",
        "df.loc[df['labels'] == -1, 'labels'] = 2\n",
        "df.labels.value_counts()"
      ]
    },
    {
      "cell_type": "markdown",
      "metadata": {
        "id": "2kr-dcAEk0nB"
      },
      "source": [
        "Get tokeniser (for NSP)"
      ]
    },
    {
      "cell_type": "code",
      "execution_count": null,
      "metadata": {
        "id": "-RDxq7jRj-7a"
      },
      "outputs": [],
      "source": [
        "tokenizer = AutoTokenizer.from_pretrained(model_name)\n",
        "tokenizer.model_max_length = 512"
      ]
    },
    {
      "cell_type": "markdown",
      "metadata": {
        "id": "u9m3LCXwo4cO"
      },
      "source": [
        "Split into train-valid"
      ]
    },
    {
      "cell_type": "code",
      "execution_count": null,
      "metadata": {
        "id": "h6RnANaEo8C8"
      },
      "outputs": [],
      "source": [
        "#train:valid:test = 60:20:20\n",
        "train_df, test_df = train_test_split(df, test_size=0.2, random_state=42, stratify=df[\"labels\"])\n",
        "train_df, valid_df = train_test_split(train_df, test_size=0.25, random_state=42, stratify=train_df[\"labels\"])"
      ]
    },
    {
      "cell_type": "markdown",
      "metadata": {
        "id": "wCjTya6KpB0u"
      },
      "source": [
        "### Create tokenised dataset"
      ]
    },
    {
      "cell_type": "code",
      "execution_count": null,
      "metadata": {
        "id": "fbYqVlKxpJ-M"
      },
      "outputs": [],
      "source": [
        "train_dataset = Dataset.from_pandas(train_df)\n",
        "valid_dataset = Dataset.from_pandas(valid_df)\n",
        "test_dataset = Dataset.from_pandas(test_df)"
      ]
    },
    {
      "cell_type": "code",
      "execution_count": null,
      "metadata": {
        "id": "4JB5D1DDpLXL"
      },
      "outputs": [],
      "source": [
        "def tokenize_function(examples):\n",
        "    return tokenizer(examples[\"text\"], padding=\"max_length\", truncation=True)\n",
        "\n",
        "tokenized_train_dataset = train_dataset.shuffle(seed=42).map(tokenize_function, batched=True)\n",
        "tokenized_valid_dataset = valid_dataset.shuffle(seed=42).map(tokenize_function, batched=True)\n",
        "tokenized_test_dataset = test_dataset.shuffle(seed=42).map(tokenize_function, batched=True)"
      ]
    },
    {
      "cell_type": "code",
      "execution_count": null,
      "metadata": {
        "id": "y617MCa-pU27"
      },
      "outputs": [],
      "source": [
        "print(tokenized_train_dataset)\n",
        "print(tokenized_valid_dataset)"
      ]
    },
    {
      "cell_type": "markdown",
      "metadata": {
        "id": "rHusLdFkpfOG"
      },
      "source": [
        "### Define Model"
      ]
    },
    {
      "cell_type": "markdown",
      "metadata": {
        "id": "nQS550Z960iV"
      },
      "source": [
        "Dynamic Padding"
      ]
    },
    {
      "cell_type": "code",
      "execution_count": null,
      "metadata": {
        "id": "1TVxlVbNpj4E"
      },
      "outputs": [],
      "source": [
        "data_collator = DataCollatorWithPadding(tokenizer=tokenizer)"
      ]
    },
    {
      "cell_type": "markdown",
      "metadata": {
        "id": "OHblaRvr63kj"
      },
      "source": [
        "Model"
      ]
    },
    {
      "cell_type": "code",
      "execution_count": null,
      "metadata": {
        "id": "t-0zg7cVp6Dz"
      },
      "outputs": [],
      "source": [
        "def model_init():\n",
        "  return AutoModelForSequenceClassification.from_pretrained(model_name, num_labels=3)"
      ]
    },
    {
      "cell_type": "markdown",
      "metadata": {
        "id": "vmrlv7CD65Ql"
      },
      "source": [
        "Training arguments"
      ]
    },
    {
      "cell_type": "code",
      "execution_count": null,
      "metadata": {
        "id": "pXvtJ5awp8i0"
      },
      "outputs": [],
      "source": [
        "MODEL_PATH = \"/gdrive/MyDrive/results/models/FinBERT_v2.0\"\n",
        "\n",
        "training_args = TrainingArguments(\n",
        "    output_dir=MODEL_PATH,\n",
        "    num_train_epochs=5,\n",
        "    warmup_ratio=0.1,\n",
        "    weight_decay=0.01,\n",
        "    learning_rate=2e-5,\n",
        "    per_device_train_batch_size=16,\n",
        "    per_device_eval_batch_size=16,\n",
        "    seed=42,\n",
        "    evaluation_strategy =\"epoch\",\n",
        "    save_strategy = \"epoch\",\n",
        "    save_total_limit = 1, # only best model is saved - older ones are overwritten\n",
        "    load_best_model_at_end=True,\n",
        "    lr_scheduler_type='cosine',\n",
        "    # auto_find_batch_size=True, # Optimising\n",
        "    # gradient_accumulation_steps=4,\n",
        "    # fp16=True,\n",
        ")"
      ]
    },
    {
      "cell_type": "markdown",
      "metadata": {
        "id": "kNoRa_Rm7A3m"
      },
      "source": [
        "Combating class imbalance with class weights"
      ]
    },
    {
      "cell_type": "code",
      "execution_count": null,
      "metadata": {
        "id": "8cx4pKpn5AUX"
      },
      "outputs": [],
      "source": [
        "# Calculating the weights\n",
        "# Weightage = 1 - (num_of_samples_of_class)/(total_num_of_samples)\n",
        "# less samples, more weightage\n",
        "\n",
        "w_pos = 1-len(df[df['labels'] == 0])/len(df)\n",
        "w_neg = 1-len(df[df['labels'] == 1])/len(df)\n",
        "w_neu = 1-len(df[df['labels'] == 2])/len(df)\n",
        "\n",
        "\n",
        "class_weights = torch.tensor(\n",
        "    [w_neu, w_neg, w_pos]\n",
        ").cuda()\n",
        "\n",
        "class_weights"
      ]
    },
    {
      "cell_type": "markdown",
      "metadata": {
        "id": "CYg_ls3o6oku"
      },
      "source": [
        "Define Trainer"
      ]
    },
    {
      "cell_type": "code",
      "execution_count": null,
      "metadata": {
        "id": "ZbmYnZks6nll"
      },
      "outputs": [],
      "source": [
        "# override the compute_loss function of the Trainer and introduce our class weighgts\n",
        "class CustomTrainer(Trainer):\n",
        "    def compute_loss(self, model, inputs, return_outputs=False):\n",
        "        labels = inputs.get(\"labels\")\n",
        "        # forward pass\n",
        "        outputs = model(**inputs)\n",
        "        logits = outputs.get(\"logits\")\n",
        "        # compute custom loss\n",
        "        loss_fct = nn.CrossEntropyLoss(weight=class_weights) # class weighting\n",
        "        loss = loss_fct(logits.view(-1, self.model.config.num_labels), labels.view(-1))\n",
        "        return (loss, outputs) if return_outputs else loss"
      ]
    },
    {
      "cell_type": "code",
      "execution_count": null,
      "metadata": {
        "id": "Pac62gla7kBm"
      },
      "outputs": [],
      "source": [
        "from sklearn.metrics import accuracy_score\n",
        "\n",
        "def evaluation(eval_preds):\n",
        "    logits, labels = eval_preds\n",
        "    preds = np.argmax(logits, axis=-1)\n",
        "    return {'accuracy': accuracy_score(labels, preds)}"
      ]
    },
    {
      "cell_type": "code",
      "execution_count": null,
      "metadata": {
        "id": "VmoQS-4N7UuX"
      },
      "outputs": [],
      "source": [
        "trainer = CustomTrainer(\n",
        "    model_init=model_init,\n",
        "    args=training_args,\n",
        "    train_dataset=tokenized_train_dataset,\n",
        "    eval_dataset=tokenized_valid_dataset,\n",
        "    tokenizer=tokenizer,\n",
        "    data_collator=data_collator,\n",
        "    compute_metrics=evaluation,\n",
        ")"
      ]
    },
    {
      "cell_type": "markdown",
      "metadata": {
        "id": "SV8zPLar6rlg"
      },
      "source": [
        "### Training"
      ]
    },
    {
      "cell_type": "code",
      "execution_count": null,
      "metadata": {
        "id": "dq0f3GIJLxxe"
      },
      "outputs": [],
      "source": [
        "trainer.train(resume_from_checkpoint=True)\n",
        "# trainer.train()"
      ]
    },
    {
      "cell_type": "code",
      "execution_count": null,
      "metadata": {
        "id": "GIv_7dkpDwFV"
      },
      "outputs": [],
      "source": [
        "trainer.save_model(MODEL_PATH)"
      ]
    },
    {
      "cell_type": "code",
      "execution_count": null,
      "metadata": {
        "id": "JklHEON8Dzgr"
      },
      "outputs": [],
      "source": [
        "trained_finbert = AutoModelForSequenceClassification.from_pretrained(MODEL_PATH)"
      ]
    },
    {
      "cell_type": "code",
      "execution_count": null,
      "metadata": {
        "id": "JH6K9JtZD27c"
      },
      "outputs": [],
      "source": [
        "tokenized_test_dataset"
      ]
    },
    {
      "cell_type": "code",
      "execution_count": null,
      "metadata": {
        "id": "5XkP1N4cD4Of"
      },
      "outputs": [],
      "source": [
        "trained_model = CustomTrainer(\n",
        "    trained_finbert,\n",
        "    tokenizer=tokenizer,\n",
        ")\n",
        "output = trained_model.predict(\n",
        "    test_dataset=tokenized_test_dataset\n",
        ")"
      ]
    },
    {
      "cell_type": "code",
      "execution_count": null,
      "metadata": {
        "id": "lhnOezbhD587"
      },
      "outputs": [],
      "source": [
        "output"
      ]
    },
    {
      "cell_type": "markdown",
      "metadata": {},
      "source": [
        "### Evaluation"
      ]
    },
    {
      "cell_type": "code",
      "execution_count": null,
      "metadata": {
        "id": "Npswa4I3D7q1"
      },
      "outputs": [],
      "source": [
        "from sklearn.preprocessing import LabelEncoder\n",
        "\n",
        "encoder = LabelEncoder()\n",
        "df['labels'] = encoder.fit_transform(df['labels'])\n",
        "encoder.inverse_transform([np.argmax(i) for i in output.predictions])\n",
        "preds = [np.argmax(i) for i in output.predictions]"
      ]
    },
    {
      "cell_type": "code",
      "execution_count": null,
      "metadata": {
        "id": "YETR8Kc9D9MY"
      },
      "outputs": [],
      "source": [
        "accuracy_score(test_df.labels, preds)"
      ]
    }
  ],
  "metadata": {
    "accelerator": "GPU",
    "colab": {
      "provenance": []
    },
    "gpuClass": "standard",
    "kernelspec": {
      "display_name": "Python 3.10.6 64-bit",
      "language": "python",
      "name": "python3"
    },
    "language_info": {
      "codemirror_mode": {
        "name": "ipython",
        "version": 3
      },
      "file_extension": ".py",
      "mimetype": "text/x-python",
      "name": "python",
      "nbconvert_exporter": "python",
      "pygments_lexer": "ipython3",
      "version": "3.10.6"
    },
    "vscode": {
      "interpreter": {
        "hash": "b0fa6594d8f4cbf19f97940f81e996739fb7646882a419484c72d19e05852a7e"
      }
    }
  },
  "nbformat": 4,
  "nbformat_minor": 0
}
