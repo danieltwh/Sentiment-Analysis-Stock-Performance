{
  "cells": [
    {
      "cell_type": "markdown",
      "metadata": {
        "id": "view-in-github",
        "colab_type": "text"
      },
      "source": [
        "<a href=\"https://colab.research.google.com/github/danieltwh/Sentiment-Analysis-Stock-Performance/blob/yilin/notebooks/TFIDF.ipynb\" target=\"_parent\"><img src=\"https://colab.research.google.com/assets/colab-badge.svg\" alt=\"Open In Colab\"/></a>"
      ]
    },
    {
      "cell_type": "code",
      "source": [
        "# mount google drive to colab\n",
        "\n",
        "from google.colab import drive\n",
        "drive.mount('/content/drive')"
      ],
      "metadata": {
        "colab": {
          "base_uri": "https://localhost:8080/"
        },
        "id": "vjvBPKdBr4WH",
        "outputId": "091a8bec-acac-428f-addd-6016fb5bbd91"
      },
      "id": "vjvBPKdBr4WH",
      "execution_count": 2,
      "outputs": [
        {
          "output_type": "stream",
          "name": "stdout",
          "text": [
            "Mounted at /content/drive\n"
          ]
        }
      ]
    },
    {
      "cell_type": "code",
      "execution_count": 3,
      "id": "c859a7cd",
      "metadata": {
        "id": "c859a7cd"
      },
      "outputs": [],
      "source": [
        "import pandas as pd\n",
        "import numpy as np \n",
        "from sklearn.feature_extraction.text import CountVectorizer\n",
        "from sklearn.feature_extraction.text import TfidfTransformer\n",
        "from sklearn.feature_extraction.text import TfidfVectorizer"
      ]
    },
    {
      "cell_type": "code",
      "source": [
        "import pandas as pd\n",
        "import os\n",
        "\n",
        "os.chdir(\"/content/drive/MyDrive/Fintech_Sentiment_Analysis_Personal/experiments/\")\n",
        "\n",
        "file = \"labelled_marketaux_news_combined_2022-10-15.csv\"\n",
        "news_data = pd.read_csv(file)[['Title', '6m']].dropna()\n",
        "news_list = news_data['Title'].tolist()"
      ],
      "metadata": {
        "id": "FQdBuHjStBPr"
      },
      "id": "FQdBuHjStBPr",
      "execution_count": 6,
      "outputs": []
    },
    {
      "cell_type": "code",
      "source": [
        "import numpy as np \n",
        "import pandas as pd\n",
        "from sklearn.feature_extraction.text import TfidfVectorizer\n",
        "from sklearn.naive_bayes import MultinomialNB\n",
        "from sklearn import metrics\n",
        "import nltk\n",
        "import re\n",
        "import string\n",
        "from nltk.stem import WordNetLemmatizer\n",
        "\n",
        "nltk.download(\"stopwords\")\n",
        "nltk.download('wordnet')\n",
        "nltk.download('omw-1.4')"
      ],
      "metadata": {
        "colab": {
          "base_uri": "https://localhost:8080/"
        },
        "id": "LCjTQOFGwvb-",
        "outputId": "4653bd9c-6772-4be0-df31-8fa704685546"
      },
      "id": "LCjTQOFGwvb-",
      "execution_count": 5,
      "outputs": [
        {
          "output_type": "stream",
          "name": "stderr",
          "text": [
            "[nltk_data] Downloading package stopwords to /root/nltk_data...\n",
            "[nltk_data]   Unzipping corpora/stopwords.zip.\n",
            "[nltk_data] Downloading package wordnet to /root/nltk_data...\n",
            "[nltk_data] Downloading package omw-1.4 to /root/nltk_data...\n"
          ]
        },
        {
          "output_type": "execute_result",
          "data": {
            "text/plain": [
              "True"
            ]
          },
          "metadata": {},
          "execution_count": 5
        }
      ]
    },
    {
      "cell_type": "code",
      "source": [
        "X = news_data['Title']\n",
        "y = news_data['6m']\n",
        "\n",
        "# split train and test data    \n",
        "from sklearn.model_selection import train_test_split\n",
        "X_train_non, X_test_non, y_train, y_test = train_test_split(X, y, test_size=0.2, random_state=0)\n"
      ],
      "metadata": {
        "id": "vbQ2TfIK1YGg"
      },
      "id": "vbQ2TfIK1YGg",
      "execution_count": 7,
      "outputs": []
    },
    {
      "cell_type": "code",
      "execution_count": 8,
      "id": "3f0069f3",
      "metadata": {
        "id": "3f0069f3"
      },
      "outputs": [],
      "source": [
        "stopwords = nltk.corpus.stopwords.words('english')\n",
        "lemmatizer = WordNetLemmatizer()\n",
        "\n",
        "train_X = []\n",
        "\n",
        "#text pre processing\n",
        "for i in range(0, len(X_train_non)):\n",
        "    review = re.sub('[^a-zA-Z]', ' ', X_train_non.iloc[i])\n",
        "    review = review.lower()\n",
        "    review = review.split()\n",
        "    review = [lemmatizer.lemmatize(word) for word in review if not word in set(stopwords)]\n",
        "    review = ' '.join(review)\n",
        "    train_X.append(review)"
      ]
    },
    {
      "cell_type": "code",
      "source": [
        "test_X = []\n",
        "\n",
        "#text pre processing\n",
        "for i in range(0, len(X_test_non)):\n",
        "    review = re.sub('[^a-zA-Z]', ' ', X_test_non.iloc[i])\n",
        "    review = review.lower()\n",
        "    review = review.split()\n",
        "    review = [lemmatizer.lemmatize(word) for word in review if not word in set(stopwords)]\n",
        "    review = ' '.join(review)\n",
        "    test_X.append(review)"
      ],
      "metadata": {
        "id": "y3vdvA_rArDU"
      },
      "id": "y3vdvA_rArDU",
      "execution_count": 9,
      "outputs": []
    },
    {
      "cell_type": "code",
      "source": [
        "#tf idf\n",
        "tf_idf = TfidfVectorizer()\n",
        "#applying tf idf to training data\n",
        "X_train_tf = tf_idf.fit_transform(train_X)\n",
        "#applying tf idf to training data\n",
        "X_train_tf = tf_idf.transform(train_X)\n",
        "\n",
        "print(\"n_samples: %d, n_features: %d\" % X_train_tf.shape)\n",
        "\n",
        "#transforming test data into tf-idf matrix\n",
        "X_test_tf = tf_idf.transform(test_X)\n",
        "\n",
        "print(\"n_samples: %d, n_features: %d\" % X_test_tf.shape)\n"
      ],
      "metadata": {
        "colab": {
          "base_uri": "https://localhost:8080/"
        },
        "id": "DFskdppl-zBi",
        "outputId": "0d750503-b391-4159-805f-5c8ac3fabb66"
      },
      "id": "DFskdppl-zBi",
      "execution_count": 11,
      "outputs": [
        {
          "output_type": "stream",
          "name": "stdout",
          "text": [
            "n_samples: 44025, n_features: 24703\n",
            "n_samples: 11007, n_features: 24703\n"
          ]
        }
      ]
    },
    {
      "cell_type": "code",
      "execution_count": 14,
      "id": "90ead0df",
      "metadata": {
        "colab": {
          "base_uri": "https://localhost:8080/"
        },
        "id": "90ead0df",
        "outputId": "ef2d20aa-ab14-44c0-cbc1-b194b2f72176"
      },
      "outputs": [
        {
          "output_type": "stream",
          "name": "stdout",
          "text": [
            "Accuracy: 49.49%\n"
          ]
        }
      ],
      "source": [
        "# logistic regression\n",
        "\n",
        "from sklearn.linear_model import LogisticRegression\n",
        "from sklearn import metrics\n",
        "from sklearn.metrics import accuracy_score\n",
        "\n",
        "logreg = LogisticRegression(solver=\"saga\", multi_class=\"multinomial\")\n",
        "logreg.fit(X_train_tf, y_train)\n",
        "y_pred = logreg.predict(X_test_tf)\n",
        "\n",
        "accuracy = accuracy_score(y_test, y_pred)\n",
        "print(\"Accuracy: %.2f%%\" % (accuracy * 100.0))"
      ]
    },
    {
      "cell_type": "code",
      "execution_count": 13,
      "id": "a485f1bd",
      "metadata": {
        "colab": {
          "base_uri": "https://localhost:8080/"
        },
        "id": "a485f1bd",
        "outputId": "9527b699-6a08-40fe-9336-5cbb502b5fe8"
      },
      "outputs": [
        {
          "output_type": "stream",
          "name": "stdout",
          "text": [
            "Accuracy: 48.41%\n"
          ]
        }
      ],
      "source": [
        "# Random forest\n",
        "\n",
        "from sklearn.ensemble import RandomForestClassifier\n",
        "from sklearn import metrics\n",
        "from sklearn.metrics import accuracy_score\n",
        "\n",
        "classifier = RandomForestClassifier(n_estimators=20, random_state=0)\n",
        "classifier.fit(X_train_tf, y_train)\n",
        "y_pred = classifier.predict(X_test_tf)\n",
        "\n",
        "accuracy = accuracy_score(y_test, y_pred)\n",
        "print(\"Accuracy: %.2f%%\" % (accuracy * 100.0))"
      ]
    },
    {
      "cell_type": "code",
      "execution_count": 15,
      "id": "4f0ab01f",
      "metadata": {
        "id": "4f0ab01f",
        "outputId": "b662ca01-2c22-4025-9f0d-337f16625208",
        "colab": {
          "base_uri": "https://localhost:8080/"
        }
      },
      "outputs": [
        {
          "output_type": "stream",
          "name": "stdout",
          "text": [
            "Accuracy: 43.95%\n"
          ]
        }
      ],
      "source": [
        "# XGBoost\n",
        "from sklearn.metrics import accuracy_score\n",
        "\n",
        "from xgboost import XGBClassifier\n",
        "model = XGBClassifier()\n",
        "model.fit(X_train_tf, y_train)\n",
        "y_pred = model.predict(X_test_tf)\n",
        "predictions = [round(value) for value in y_pred]\n",
        "\n",
        "accuracy = accuracy_score(y_test, predictions)\n",
        "print(\"Accuracy: %.2f%%\" % (accuracy * 100.0))"
      ]
    }
  ],
  "metadata": {
    "kernelspec": {
      "display_name": "Python 3 (ipykernel)",
      "language": "python",
      "name": "python3"
    },
    "language_info": {
      "codemirror_mode": {
        "name": "ipython",
        "version": 3
      },
      "file_extension": ".py",
      "mimetype": "text/x-python",
      "name": "python",
      "nbconvert_exporter": "python",
      "pygments_lexer": "ipython3",
      "version": "3.9.9"
    },
    "colab": {
      "provenance": [],
      "include_colab_link": true
    }
  },
  "nbformat": 4,
  "nbformat_minor": 5
}