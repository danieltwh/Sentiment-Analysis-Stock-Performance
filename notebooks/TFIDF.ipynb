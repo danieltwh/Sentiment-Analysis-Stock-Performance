{
  "cells": [
    {
      "cell_type": "markdown",
      "metadata": {
        "id": "view-in-github",
        "colab_type": "text"
      },
      "source": [
        "<a href=\"https://colab.research.google.com/github/danieltwh/Sentiment-Analysis-Stock-Performance/blob/yilin/notebooks/TFIDF.ipynb\" target=\"_parent\"><img src=\"https://colab.research.google.com/assets/colab-badge.svg\" alt=\"Open In Colab\"/></a>"
      ]
    },
    {
      "cell_type": "code",
      "source": [
        "# mount google drive to colab\n",
        "\n",
        "from google.colab import drive\n",
        "drive.mount('/content/drive')"
      ],
      "metadata": {
        "colab": {
          "base_uri": "https://localhost:8080/"
        },
        "id": "vjvBPKdBr4WH",
        "outputId": "853723f5-7782-4c0b-dcc1-a5bb892baa69"
      },
      "id": "vjvBPKdBr4WH",
      "execution_count": null,
      "outputs": [
        {
          "output_type": "stream",
          "name": "stdout",
          "text": [
            "Mounted at /content/drive\n"
          ]
        }
      ]
    },
    {
      "cell_type": "code",
      "execution_count": null,
      "id": "c859a7cd",
      "metadata": {
        "id": "c859a7cd"
      },
      "outputs": [],
      "source": [
        "import pandas as pd\n",
        "import numpy as np \n",
        "from sklearn.feature_extraction.text import CountVectorizer\n",
        "from sklearn.feature_extraction.text import TfidfTransformer\n",
        "from sklearn.feature_extraction.text import TfidfVectorizer"
      ]
    },
    {
      "cell_type": "code",
      "source": [
        "import pandas as pd\n",
        "import os\n",
        "\n",
        "os.chdir(\"/content/drive/MyDrive/Fintech_Sentiment_Analysis_Personal/experiments/\")\n",
        "\n",
        "file = \"labelled_marketaux_news_combined_2022-10-15.csv\"\n",
        "news_data = pd.read_csv(file)[['Title', '6m']].dropna()\n",
        "news_list = news_data['Title'].tolist()"
      ],
      "metadata": {
        "id": "FQdBuHjStBPr"
      },
      "id": "FQdBuHjStBPr",
      "execution_count": null,
      "outputs": []
    },
    {
      "cell_type": "code",
      "source": [
        "import numpy as np \n",
        "import pandas as pd\n",
        "from sklearn.feature_extraction.text import TfidfVectorizer\n",
        "from sklearn.naive_bayes import MultinomialNB\n",
        "from sklearn import metrics\n",
        "import nltk\n",
        "import re\n",
        "import string\n",
        "from nltk.stem import WordNetLemmatizer\n",
        "\n",
        "nltk.download(\"stopwords\")\n",
        "nltk.download('wordnet')\n",
        "nltk.download('omw-1.4')"
      ],
      "metadata": {
        "colab": {
          "base_uri": "https://localhost:8080/"
        },
        "id": "LCjTQOFGwvb-",
        "outputId": "cfd12d23-d554-428b-dadf-b5f6e5429434"
      },
      "id": "LCjTQOFGwvb-",
      "execution_count": null,
      "outputs": [
        {
          "output_type": "stream",
          "name": "stderr",
          "text": [
            "[nltk_data] Downloading package stopwords to /root/nltk_data...\n",
            "[nltk_data]   Unzipping corpora/stopwords.zip.\n",
            "[nltk_data] Downloading package wordnet to /root/nltk_data...\n",
            "[nltk_data] Downloading package omw-1.4 to /root/nltk_data...\n"
          ]
        },
        {
          "output_type": "execute_result",
          "data": {
            "text/plain": [
              "True"
            ]
          },
          "metadata": {},
          "execution_count": 4
        }
      ]
    },
    {
      "cell_type": "code",
      "source": [
        "X = news_data['Title']\n",
        "y = news_data['6m']\n",
        "\n",
        "# split train and test data    \n",
        "from sklearn.model_selection import train_test_split\n",
        "X_train_non, X_test_non, y_train, y_test = train_test_split(X, y, test_size=0.2, random_state=0)\n"
      ],
      "metadata": {
        "id": "vbQ2TfIK1YGg"
      },
      "id": "vbQ2TfIK1YGg",
      "execution_count": null,
      "outputs": []
    },
    {
      "cell_type": "code",
      "execution_count": null,
      "id": "3f0069f3",
      "metadata": {
        "id": "3f0069f3"
      },
      "outputs": [],
      "source": [
        "stopwords = nltk.corpus.stopwords.words('english')\n",
        "lemmatizer = WordNetLemmatizer()\n",
        "\n",
        "train_X = []\n",
        "\n",
        "#text pre processing\n",
        "for i in range(0, len(X_train_non)):\n",
        "    review = re.sub('[^a-zA-Z]', ' ', X_train_non.iloc[i])\n",
        "    review = review.lower()\n",
        "    review = review.split()\n",
        "    review = [lemmatizer.lemmatize(word) for word in review if not word in set(stopwords)]\n",
        "    review = ' '.join(review)\n",
        "    train_X.append(review)"
      ]
    },
    {
      "cell_type": "code",
      "source": [
        "test_X = []\n",
        "\n",
        "#text pre processing\n",
        "for i in range(0, len(X_test_non)):\n",
        "    review = re.sub('[^a-zA-Z]', ' ', X_test_non.iloc[i])\n",
        "    review = review.lower()\n",
        "    review = review.split()\n",
        "    review = [lemmatizer.lemmatize(word) for word in review if not word in set(stopwords)]\n",
        "    review = ' '.join(review)\n",
        "    test_X.append(review)"
      ],
      "metadata": {
        "id": "y3vdvA_rArDU"
      },
      "id": "y3vdvA_rArDU",
      "execution_count": null,
      "outputs": []
    },
    {
      "cell_type": "code",
      "source": [
        "#tf idf\n",
        "tf_idf = TfidfVectorizer()\n",
        "#applying tf idf to training data\n",
        "X_train_tf = tf_idf.fit_transform(train_X)\n",
        "#applying tf idf to training data\n",
        "X_train_tf = tf_idf.transform(train_X)\n",
        "\n",
        "print(\"n_samples: %d, n_features: %d\" % X_train_tf.shape)\n",
        "\n",
        "#transforming test data into tf-idf matrix\n",
        "X_test_tf = tf_idf.transform(test_X)\n",
        "\n",
        "print(\"n_samples: %d, n_features: %d\" % X_test_tf.shape)\n"
      ],
      "metadata": {
        "colab": {
          "base_uri": "https://localhost:8080/"
        },
        "id": "DFskdppl-zBi",
        "outputId": "87545b43-c035-48fa-c015-82d54bb77791"
      },
      "id": "DFskdppl-zBi",
      "execution_count": null,
      "outputs": [
        {
          "output_type": "stream",
          "name": "stdout",
          "text": [
            "n_samples: 44025, n_features: 24703\n",
            "n_samples: 11007, n_features: 24703\n"
          ]
        }
      ]
    },
    {
      "cell_type": "code",
      "execution_count": null,
      "id": "90ead0df",
      "metadata": {
        "colab": {
          "base_uri": "https://localhost:8080/"
        },
        "id": "90ead0df",
        "outputId": "96f77ba5-927b-4c99-f90b-c5a1ad5dc54d"
      },
      "outputs": [
        {
          "output_type": "stream",
          "name": "stdout",
          "text": [
            "Accuracy: 49.49%\n"
          ]
        }
      ],
      "source": [
        "# logistic regression\n",
        "\n",
        "from sklearn.linear_model import LogisticRegression\n",
        "from sklearn import metrics\n",
        "from sklearn.metrics import accuracy_score\n",
        "\n",
        "logreg = LogisticRegression(solver=\"saga\", multi_class=\"multinomial\")\n",
        "logreg.fit(X_train_tf, y_train)\n",
        "y_pred = logreg.predict(X_test_tf)\n",
        "\n",
        "accuracy = accuracy_score(y_test, y_pred)\n",
        "print(\"Accuracy: %.2f%%\" % (accuracy * 100.0))"
      ]
    },
    {
      "cell_type": "code",
      "execution_count": null,
      "id": "a485f1bd",
      "metadata": {
        "colab": {
          "base_uri": "https://localhost:8080/"
        },
        "id": "a485f1bd",
        "outputId": "9527b699-6a08-40fe-9336-5cbb502b5fe8"
      },
      "outputs": [
        {
          "output_type": "stream",
          "name": "stdout",
          "text": [
            "Accuracy: 48.41%\n"
          ]
        }
      ],
      "source": [
        "# Random forest\n",
        "\n",
        "from sklearn.ensemble import RandomForestClassifier\n",
        "from sklearn import metrics\n",
        "from sklearn.metrics import accuracy_score\n",
        "\n",
        "classifier = RandomForestClassifier(n_estimators=20, random_state=0)\n",
        "classifier.fit(X_train_tf, y_train)\n",
        "y_pred = classifier.predict(X_test_tf)\n",
        "\n",
        "accuracy = accuracy_score(y_test, y_pred)\n",
        "print(\"Accuracy: %.2f%%\" % (accuracy * 100.0))"
      ]
    },
    {
      "cell_type": "code",
      "execution_count": null,
      "id": "4f0ab01f",
      "metadata": {
        "id": "4f0ab01f",
        "outputId": "b662ca01-2c22-4025-9f0d-337f16625208",
        "colab": {
          "base_uri": "https://localhost:8080/"
        }
      },
      "outputs": [
        {
          "output_type": "stream",
          "name": "stdout",
          "text": [
            "Accuracy: 43.95%\n"
          ]
        }
      ],
      "source": [
        "# XGBoost\n",
        "from sklearn.metrics import accuracy_score\n",
        "\n",
        "from xgboost import XGBClassifier\n",
        "model = XGBClassifier()\n",
        "model.fit(X_train_tf, y_train)\n",
        "y_pred = model.predict(X_test_tf)\n",
        "predictions = [round(value) for value in y_pred]\n",
        "\n",
        "accuracy = accuracy_score(y_test, predictions)\n",
        "print(\"Accuracy: %.2f%%\" % (accuracy * 100.0))"
      ]
    },
    {
      "cell_type": "code",
      "source": [
        "import pickle\n",
        "\n",
        "filename = 'tfidf_logistic_regression.sav'\n",
        "pickle.dump(logreg, open(filename, 'wb'))"
      ],
      "metadata": {
        "id": "6mAQ7NFd6329"
      },
      "id": "6mAQ7NFd6329",
      "execution_count": null,
      "outputs": []
    },
    {
      "cell_type": "code",
      "source": [
        "import pickle\n",
        "\n",
        "tfidf_filename = 'tfidf.pkl'\n",
        "pickle.dump(tf_idf, open(tfidf_filename, 'wb'))"
      ],
      "metadata": {
        "id": "uIMipDBRHX6k"
      },
      "id": "uIMipDBRHX6k",
      "execution_count": null,
      "outputs": []
    }
  ],
  "metadata": {
    "kernelspec": {
      "display_name": "Python 3 (ipykernel)",
      "language": "python",
      "name": "python3"
    },
    "language_info": {
      "codemirror_mode": {
        "name": "ipython",
        "version": 3
      },
      "file_extension": ".py",
      "mimetype": "text/x-python",
      "name": "python",
      "nbconvert_exporter": "python",
      "pygments_lexer": "ipython3",
      "version": "3.9.9"
    },
    "colab": {
      "provenance": [],
      "include_colab_link": true
    }
  },
  "nbformat": 4,
  "nbformat_minor": 5
}