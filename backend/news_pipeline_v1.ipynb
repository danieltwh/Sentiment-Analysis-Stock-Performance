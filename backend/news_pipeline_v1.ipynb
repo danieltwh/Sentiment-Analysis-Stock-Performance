{
 "cells": [
  {
   "cell_type": "code",
   "execution_count": 2,
   "metadata": {},
   "outputs": [],
   "source": [
    "from fetch_news import *\n",
    "import yaml\n",
    "import io\n",
    "\n",
    "import numpy as np\n",
    "import pandas as pd\n",
    "from bs4 import BeautifulSoup\n",
    "import os.path\n",
    "from datetime import datetime, timedelta\n",
    "import datetime\n",
    "import aiohttp\n",
    "import asyncio"
   ]
  },
  {
   "cell_type": "code",
   "execution_count": 3,
   "metadata": {},
   "outputs": [],
   "source": [
    "# from datetime import datetime\n",
    "import datetime\n",
    "\n",
    "from sqlalchemy.orm import Session\n",
    "from sqlalchemy.sql import func\n",
    "import models\n",
    "import schemas\n",
    "import crud\n",
    "from database import SessionLocal, engine, SQLALCHEMY_DATABASE_URL\n",
    "\n",
    "import psycopg2\n",
    "\n",
    "import json\n",
    "import os"
   ]
  },
  {
   "cell_type": "code",
   "execution_count": 3,
   "metadata": {},
   "outputs": [],
   "source": [
    "import importlib\n",
    "importlib.reload(crud)"
   ]
  },
  {
   "cell_type": "code",
   "execution_count": 5,
   "metadata": {},
   "outputs": [],
   "source": [
    "API_FILE = \"api_tracker.yaml\"\n",
    "with open(API_FILE) as f:\n",
    "    generator = yaml.safe_load(f)\n",
    "    APIS = list(generator)\n",
    "    APIS = list(map(lambda x: tuple(x.items())[0], APIS))"
   ]
  },
  {
   "cell_type": "code",
   "execution_count": 6,
   "metadata": {},
   "outputs": [
    {
     "name": "stdout",
     "output_type": "stream",
     "text": [
      "('API Key 1', {'owner': 'Kleon', 'start_index': 0, 'end_index': 99, 'key': 'uvi3iw3bL4jaROoaT0TGgbu0HRr9sQc9mWyMhFCa'})\n",
      "('API Key 2', {'owner': 'Kleon', 'start_index': 100, 'end_index': 199, 'key': 'QAtmHlReb9ZdjaicSgdpARuHGYVYJgzjYuSiFXD7'})\n"
     ]
    }
   ],
   "source": [
    "for api in APIS[:2]:\n",
    "    print(api)"
   ]
  },
  {
   "cell_type": "code",
   "execution_count": 7,
   "metadata": {},
   "outputs": [
    {
     "data": {
      "text/plain": [
       "23"
      ]
     },
     "execution_count": 7,
     "metadata": {},
     "output_type": "execute_result"
    }
   ],
   "source": [
    "len(APIS)"
   ]
  },
  {
   "cell_type": "code",
   "execution_count": 26,
   "metadata": {},
   "outputs": [],
   "source": [
    "start_idx = 101\n",
    "end_idx = 102"
   ]
  },
  {
   "cell_type": "code",
   "execution_count": 27,
   "metadata": {},
   "outputs": [],
   "source": [
    "# db = SessionLocal()"
   ]
  },
  {
   "cell_type": "code",
   "execution_count": 28,
   "metadata": {},
   "outputs": [],
   "source": [
    "# def get_all_stock_tickers(db: Session):\n",
    "#     return db.query(models.Stock, func.row)"
   ]
  },
  {
   "cell_type": "code",
   "execution_count": 29,
   "metadata": {},
   "outputs": [],
   "source": [
    "# sql_query = f'''\n",
    "# SELECT *\n",
    "# FROM (SELECT ROW_NUMBER() OVER (ORDER BY ticker) as idx, ticker \n",
    "# \tFROM stocks) as t\n",
    "# WHERE idx BETWEEN {start_idx} AND {end_idx};\n",
    "# '''"
   ]
  },
  {
   "cell_type": "code",
   "execution_count": 30,
   "metadata": {},
   "outputs": [],
   "source": [
    "# result = db.execute(sql_query).all()"
   ]
  },
  {
   "cell_type": "code",
   "execution_count": 31,
   "metadata": {},
   "outputs": [],
   "source": [
    "# result"
   ]
  },
  {
   "cell_type": "code",
   "execution_count": 32,
   "metadata": {},
   "outputs": [],
   "source": [
    "def get_request_param(APIS, stocks):\n",
    "    request_param = []\n",
    "    for idx, ticker in stocks:\n",
    "        is_found = False\n",
    "        param = {\n",
    "            \"idx\": idx,\n",
    "            \"ticker\": ticker\n",
    "        }\n",
    "        for api_key, api_param in APIS:\n",
    "            # print(idx, api_param[\"start_index\"],  api_param[\"end_index\"])\n",
    "            if api_param[\"start_index\"] <= idx <= api_param[\"end_index\"]:\n",
    "                param[\"api_key_name\"] = api_key\n",
    "                param[\"api_key\"] = api_param[\"key\"]\n",
    "                request_param.append(param)\n",
    "                is_found = True\n",
    "                break;\n",
    "            elif api_param[\"start_index\"] == \"*\" and api_param[\"end_index\"] == \"*\":\n",
    "                param[\"api_key_name\"] = api_key\n",
    "                param[\"api_key\"] = api_param[\"key\"]\n",
    "                request_param.append(param)\n",
    "                is_found = True\n",
    "                break;\n",
    "            elif api_param[\"start_index\"] <= idx and api_param[\"end_index\"] == \"*\":\n",
    "                param[\"api_key_name\"] = api_key\n",
    "                param[\"api_key\"] = api_param[\"key\"]\n",
    "                request_param.append(param)\n",
    "                is_found = True\n",
    "                break;\n",
    "            elif api_param[\"start_index\"] == \"*\" and idx <= api_param[\"end_index\"] :\n",
    "                param[\"api_key_name\"] = api_key\n",
    "                param[\"api_key\"] = api_param[\"key\"]\n",
    "                request_param.append(param)\n",
    "                is_found = True\n",
    "                break;\n",
    "        \n",
    "        if not is_found:\n",
    "            raise Exception(f\"Failed to allocate API key for index {idx}: {ticker}\")\n",
    "    return request_param\n"
   ]
  },
  {
   "cell_type": "code",
   "execution_count": 33,
   "metadata": {},
   "outputs": [
    {
     "name": "stdout",
     "output_type": "stream",
     "text": [
      "Length of request param: 2\n",
      "[{'idx': 101, 'ticker': 'AMEH', 'api_key_name': 'API Key 2', 'api_key': 'QAtmHlReb9ZdjaicSgdpARuHGYVYJgzjYuSiFXD7'}, {'idx': 102, 'ticker': 'AMG', 'api_key_name': 'API Key 2', 'api_key': 'QAtmHlReb9ZdjaicSgdpARuHGYVYJgzjYuSiFXD7'}]\n"
     ]
    }
   ],
   "source": [
    "try:\n",
    "  db = SessionLocal()\n",
    "  sql_query = f'''\n",
    "    SELECT *\n",
    "    FROM (SELECT ROW_NUMBER() OVER (ORDER BY ticker) as idx, ticker \n",
    "      FROM stocks) as t\n",
    "    WHERE idx BETWEEN {start_idx} AND {end_idx};\n",
    "  '''\n",
    "  stocks = db.execute(sql_query).all()\n",
    "  request_param = get_request_param(APIS, stocks)\n",
    "  print(\"Length of request param:\",len(request_param))\n",
    "  print(request_param[:2])\n",
    "finally:\n",
    "  db.close()"
   ]
  },
  {
   "cell_type": "code",
   "execution_count": 34,
   "metadata": {},
   "outputs": [
    {
     "name": "stdout",
     "output_type": "stream",
     "text": [
      "AMEH None 2022-10-28 23:38:00.879041\n",
      "AMG 2021-01-14 17:18:27 2021-01-15 00:01:00\n",
      "Insert start dates\n",
      "[{'idx': 101, 'ticker': 'AMEH', 'api_key_name': 'API Key 2', 'api_key': 'QAtmHlReb9ZdjaicSgdpARuHGYVYJgzjYuSiFXD7', 'start_date': datetime.datetime(2022, 10, 28, 23, 38, 0, 879041)}, {'idx': 102, 'ticker': 'AMG', 'api_key_name': 'API Key 2', 'api_key': 'QAtmHlReb9ZdjaicSgdpARuHGYVYJgzjYuSiFXD7', 'start_date': datetime.datetime(2021, 1, 15, 0, 1)}]\n"
     ]
    }
   ],
   "source": [
    "try:\n",
    "  db = SessionLocal()\n",
    "\n",
    "  for idx in range(len(request_param)):\n",
    "    param = request_param[idx]\n",
    "    news = crud.get_last_news(db, param[\"ticker\"])\n",
    "    if len(news) == 0:\n",
    "      date = None\n",
    "      start_date = datetime.datetime.today() - timedelta(weeks=2)\n",
    "    else:\n",
    "      date = news[\"date\"]\n",
    "      # date.strftime(\"%Y-%m-%d\")\n",
    "      start_date = (date + timedelta(days=1)).replace(hour = 0, minute = 1, second = 0)\n",
    "    print(param[\"ticker\"], date, start_date)\n",
    "    param[\"start_date\"] = start_date      \n",
    "finally:\n",
    "  db.close()\n",
    "print(\"Insert start dates\")\n",
    "print(request_param[:2])"
   ]
  },
  {
   "cell_type": "code",
   "execution_count": 19,
   "metadata": {},
   "outputs": [
    {
     "data": {
      "text/plain": [
       "[{'idx': 100,\n",
       "  'ticker': 'AMED',\n",
       "  'api_key_name': 'API Key 2',\n",
       "  'api_key': 'QAtmHlReb9ZdjaicSgdpARuHGYVYJgzjYuSiFXD7',\n",
       "  'start_date': datetime.datetime(2022, 10, 28, 23, 36, 54, 595249)},\n",
       " {'idx': 101,\n",
       "  'ticker': 'AMEH',\n",
       "  'api_key_name': 'API Key 2',\n",
       "  'api_key': 'QAtmHlReb9ZdjaicSgdpARuHGYVYJgzjYuSiFXD7',\n",
       "  'start_date': datetime.datetime(2022, 10, 28, 23, 36, 54, 685754)}]"
      ]
     },
     "execution_count": 19,
     "metadata": {},
     "output_type": "execute_result"
    }
   ],
   "source": [
    "request_param[:2]"
   ]
  },
  {
   "cell_type": "code",
   "execution_count": 46,
   "metadata": {},
   "outputs": [],
   "source": [
    "s = request_param[0][\"start_date\"] - datetime.timedelta(weeks=10)\n",
    "e = min(s + datetime.timedelta(weeks=2), datetime.datetime.today())"
   ]
  },
  {
   "cell_type": "code",
   "execution_count": 47,
   "metadata": {},
   "outputs": [
    {
     "name": "stdout",
     "output_type": "stream",
     "text": [
      "2022-08-19 23:38:00.879041\n",
      "2022-09-02 23:38:00.879041\n"
     ]
    }
   ],
   "source": [
    "print(s)\n",
    "print(e)"
   ]
  },
  {
   "cell_type": "code",
   "execution_count": null,
   "metadata": {},
   "outputs": [],
   "source": []
  },
  {
   "cell_type": "markdown",
   "metadata": {},
   "source": [
    "# Fetch News"
   ]
  },
  {
   "cell_type": "code",
   "execution_count": 48,
   "metadata": {},
   "outputs": [],
   "source": [
    "async def fetch_token_news(session, ticker, token, start_date, end_date):\n",
    "    tasks = []\n",
    "    start_date_formated = start_date.strftime(\"%Y-%m-%d\") \n",
    "    end_date_formated = end_date.strftime(\"%Y-%m-%d\")\n",
    "    try:\n",
    "      url = f\"https://api.marketaux.com/v1/news/all?symbols={ticker}&api_token={token}&filter_entities=true&published_before={end_date}&published_after={start_date}\"\n",
    "      async with session.get(url) as response:\n",
    "        result = await response.json()\n",
    "        temp = {\n",
    "          \"ticker\": ticker,\n",
    "          \"token\": token,\n",
    "          \"start_date\": start_date,\n",
    "          \"end_date\": end_date,\n",
    "          \"news\": result\n",
    "        }\n",
    "        tasks.append(temp)\n",
    "    except:\n",
    "      print(f\"Fail[{ticker}]: {start_date} - {end_date}\")\n",
    "    return tasks\n",
    "\n",
    "async def fetch_all_news_data_async(request_param):\n",
    "  news = {}\n",
    "  tasks = []\n",
    "  async with aiohttp.ClientSession() as session:\n",
    "    counter = 0\n",
    "    for idx in range(len(request_param)):\n",
    "      param = request_param[idx]\n",
    "      ticker = param[\"ticker\"]\n",
    "      token = param[\"api_key\"]\n",
    "      start_date = param[\"start_date\"]\n",
    "      end_date = min(start_date + datetime.timedelta(weeks=2), datetime.datetime.today())\n",
    "      tasks.append(fetch_token_news(session, ticker, token, start_date, end_date))\n",
    "      counter += 1\n",
    "      if counter == 6:\n",
    "        await asyncio.sleep(300)\n",
    "\n",
    "    responses = await asyncio.gather(*tasks)\n",
    "    for response in responses:\n",
    "      for result in response:\n",
    "        try:\n",
    "          ticker = result[\"data\"][0][\"entities\"][0][\"symbol\"]\n",
    "          news[ticker] = result\n",
    "        except Exception as err:\n",
    "          print(f\"Rate limit reached\")\n",
    "  return news\n",
    "\n",
    "def process_news_data(news_dict):\n",
    "  df = pd.DataFrame()\n",
    "  for result in news_dict:\n",
    "    news = result[\"news\"]\n",
    "    ticker = result[\"ticker\"]\n",
    "    title = list(map(lambda x: x['title'], news['data']))\n",
    "    pub_date = list(map(lambda x: x['published_at'], news['data']))\n",
    "    source = list(map(lambda x: x['source'], news['data']))\n",
    "    url = list(map(lambda x: x['url'], news['data']))\n",
    "    entities = list(map(lambda x: list(filter(lambda y: y['symbol'] == ticker, x['entities']))[0], news['data']))\n",
    "    match_score = list(map(lambda x: x[\"match_score\"], entities))\n",
    "    sentiment_score = list(map(lambda x: x[\"sentiment_score\"], entities))\n",
    "\n",
    "    def process_text(text):\n",
    "      text = text.replace('\\n\\n', '... ')\n",
    "      text = BeautifulSoup(text, 'html.parser').get_text()\n",
    "      return text\n",
    "    text = list(map(lambda y: '\\n'.join(list(map(lambda z: process_text(z['highlight']), y))), list(map(lambda x: x['highlights'], entities))))\n",
    "    \n",
    "    row = {\n",
    "        \"Stock\": [ticker] * len(title), \n",
    "        \"Title\": title, \n",
    "        \"Date/Time Published\": pub_date, \n",
    "        \"Source\": source, \n",
    "        \"Url\": url,\n",
    "        \"Relevant Texts\": text,\n",
    "        \"Sentiment Score\": sentiment_score,\n",
    "        \"Match Score\": match_score\n",
    "        }\n",
    "    temp = pd.DataFrame(row)\n",
    "    df = df.append(temp, ignore_index = True)\n",
    "  return df"
   ]
  },
  {
   "cell_type": "code",
   "execution_count": 58,
   "metadata": {},
   "outputs": [],
   "source": [
    "df = pd.DataFrame(stocks, columns=[\"index\", 'ticker']).set_index(\"index\")"
   ]
  },
  {
   "cell_type": "code",
   "execution_count": 59,
   "metadata": {},
   "outputs": [
    {
     "data": {
      "text/html": [
       "<div>\n",
       "<style scoped>\n",
       "    .dataframe tbody tr th:only-of-type {\n",
       "        vertical-align: middle;\n",
       "    }\n",
       "\n",
       "    .dataframe tbody tr th {\n",
       "        vertical-align: top;\n",
       "    }\n",
       "\n",
       "    .dataframe thead th {\n",
       "        text-align: right;\n",
       "    }\n",
       "</style>\n",
       "<table border=\"1\" class=\"dataframe\">\n",
       "  <thead>\n",
       "    <tr style=\"text-align: right;\">\n",
       "      <th></th>\n",
       "      <th>ticker</th>\n",
       "    </tr>\n",
       "    <tr>\n",
       "      <th>index</th>\n",
       "      <th></th>\n",
       "    </tr>\n",
       "  </thead>\n",
       "  <tbody>\n",
       "    <tr>\n",
       "      <th>101</th>\n",
       "      <td>AMEH</td>\n",
       "    </tr>\n",
       "    <tr>\n",
       "      <th>102</th>\n",
       "      <td>AMG</td>\n",
       "    </tr>\n",
       "  </tbody>\n",
       "</table>\n",
       "</div>"
      ],
      "text/plain": [
       "      ticker\n",
       "index       \n",
       "101     AMEH\n",
       "102      AMG"
      ]
     },
     "execution_count": 59,
     "metadata": {},
     "output_type": "execute_result"
    }
   ],
   "source": [
    "df"
   ]
  },
  {
   "cell_type": "code",
   "execution_count": 60,
   "metadata": {},
   "outputs": [
    {
     "data": {
      "text/plain": [
       "Int64Index([101, 102], dtype='int64', name='index')"
      ]
     },
     "execution_count": 60,
     "metadata": {},
     "output_type": "execute_result"
    }
   ],
   "source": [
    "df.index"
   ]
  },
  {
   "cell_type": "code",
   "execution_count": 63,
   "metadata": {},
   "outputs": [
    {
     "data": {
      "text/html": [
       "<div>\n",
       "<style scoped>\n",
       "    .dataframe tbody tr th:only-of-type {\n",
       "        vertical-align: middle;\n",
       "    }\n",
       "\n",
       "    .dataframe tbody tr th {\n",
       "        vertical-align: top;\n",
       "    }\n",
       "\n",
       "    .dataframe thead th {\n",
       "        text-align: right;\n",
       "    }\n",
       "</style>\n",
       "<table border=\"1\" class=\"dataframe\">\n",
       "  <thead>\n",
       "    <tr style=\"text-align: right;\">\n",
       "      <th></th>\n",
       "      <th>ticker</th>\n",
       "    </tr>\n",
       "    <tr>\n",
       "      <th>index</th>\n",
       "      <th></th>\n",
       "    </tr>\n",
       "  </thead>\n",
       "  <tbody>\n",
       "    <tr>\n",
       "      <th>101</th>\n",
       "      <td>AMEH</td>\n",
       "    </tr>\n",
       "    <tr>\n",
       "      <th>102</th>\n",
       "      <td>AMG</td>\n",
       "    </tr>\n",
       "  </tbody>\n",
       "</table>\n",
       "</div>"
      ],
      "text/plain": [
       "      ticker\n",
       "index       \n",
       "101     AMEH\n",
       "102      AMG"
      ]
     },
     "execution_count": 63,
     "metadata": {},
     "output_type": "execute_result"
    }
   ],
   "source": [
    "df.loc[101:102]"
   ]
  },
  {
   "cell_type": "code",
   "execution_count": 66,
   "metadata": {},
   "outputs": [
    {
     "data": {
      "text/plain": [
       "array([], dtype=object)"
      ]
     },
     "execution_count": 66,
     "metadata": {},
     "output_type": "execute_result"
    }
   ],
   "source": [
    "df.loc[50:51, \"ticker\"].to_numpy()"
   ]
  },
  {
   "cell_type": "code",
   "execution_count": 50,
   "metadata": {},
   "outputs": [
    {
     "ename": "TypeError",
     "evalue": "Use async with instead",
     "output_type": "error",
     "traceback": [
      "\u001b[0;31m---------------------------------------------------------------------------\u001b[0m",
      "\u001b[0;31mTypeError\u001b[0m                                 Traceback (most recent call last)",
      "\u001b[0;32m/var/folders/gp/1_dqbwsn08sbtf7s0k5q2lsc0000gn/T/ipykernel_55632/2005665745.py\u001b[0m in \u001b[0;36m<module>\u001b[0;34m\u001b[0m\n\u001b[1;32m      1\u001b[0m \u001b[0mtask\u001b[0m \u001b[0;34m=\u001b[0m \u001b[0;34m[\u001b[0m\u001b[0;34m]\u001b[0m\u001b[0;34m\u001b[0m\u001b[0;34m\u001b[0m\u001b[0m\n\u001b[1;32m      2\u001b[0m \u001b[0midx\u001b[0m \u001b[0;34m=\u001b[0m \u001b[0;36m0\u001b[0m\u001b[0;34m\u001b[0m\u001b[0;34m\u001b[0m\u001b[0m\n\u001b[0;32m----> 3\u001b[0;31m \u001b[0;32mwith\u001b[0m \u001b[0maiohttp\u001b[0m\u001b[0;34m.\u001b[0m\u001b[0mClientSession\u001b[0m\u001b[0;34m(\u001b[0m\u001b[0;34m)\u001b[0m \u001b[0;32mas\u001b[0m \u001b[0msession\u001b[0m\u001b[0;34m:\u001b[0m\u001b[0;34m\u001b[0m\u001b[0;34m\u001b[0m\u001b[0m\n\u001b[0m\u001b[1;32m      4\u001b[0m     \u001b[0mparam\u001b[0m \u001b[0;34m=\u001b[0m \u001b[0mrequest_param\u001b[0m\u001b[0;34m[\u001b[0m\u001b[0midx\u001b[0m\u001b[0;34m]\u001b[0m\u001b[0;34m\u001b[0m\u001b[0;34m\u001b[0m\u001b[0m\n\u001b[1;32m      5\u001b[0m     \u001b[0mticker\u001b[0m \u001b[0;34m=\u001b[0m \u001b[0mparam\u001b[0m\u001b[0;34m[\u001b[0m\u001b[0;34m\"ticker\"\u001b[0m\u001b[0;34m]\u001b[0m\u001b[0;34m\u001b[0m\u001b[0;34m\u001b[0m\u001b[0m\n",
      "\u001b[0;32m~/opt/anaconda3/envs/feature/lib/python3.8/site-packages/aiohttp/client.py\u001b[0m in \u001b[0;36m__enter__\u001b[0;34m(self)\u001b[0m\n\u001b[1;32m   1092\u001b[0m \u001b[0;34m\u001b[0m\u001b[0m\n\u001b[1;32m   1093\u001b[0m     \u001b[0;32mdef\u001b[0m \u001b[0m__enter__\u001b[0m\u001b[0;34m(\u001b[0m\u001b[0mself\u001b[0m\u001b[0;34m)\u001b[0m \u001b[0;34m->\u001b[0m \u001b[0;32mNone\u001b[0m\u001b[0;34m:\u001b[0m\u001b[0;34m\u001b[0m\u001b[0;34m\u001b[0m\u001b[0m\n\u001b[0;32m-> 1094\u001b[0;31m         \u001b[0;32mraise\u001b[0m \u001b[0mTypeError\u001b[0m\u001b[0;34m(\u001b[0m\u001b[0;34m\"Use async with instead\"\u001b[0m\u001b[0;34m)\u001b[0m\u001b[0;34m\u001b[0m\u001b[0;34m\u001b[0m\u001b[0m\n\u001b[0m\u001b[1;32m   1095\u001b[0m \u001b[0;34m\u001b[0m\u001b[0m\n\u001b[1;32m   1096\u001b[0m     def __exit__(\n",
      "\u001b[0;31mTypeError\u001b[0m: Use async with instead"
     ]
    }
   ],
   "source": [
    "task = []\n",
    "idx = 0\n",
    "with aiohttp.ClientSession() as session:\n",
    "    param = request_param[idx]\n",
    "    ticker = param[\"ticker\"]\n",
    "    token = param[\"api_key\"]\n",
    "    start_date = param[\"start_date\"]\n",
    "    end_date = min(start_date + datetime.timedelta(weeks=2), datetime.datetime.today())\n",
    "    task = fetch_token_news(session, ticker, token, start_date, end_date)"
   ]
  },
  {
   "cell_type": "code",
   "execution_count": 49,
   "metadata": {},
   "outputs": [
    {
     "ename": "RuntimeError",
     "evalue": "asyncio.run() cannot be called from a running event loop",
     "output_type": "error",
     "traceback": [
      "\u001b[0;31m---------------------------------------------------------------------------\u001b[0m",
      "\u001b[0;31mRuntimeError\u001b[0m                              Traceback (most recent call last)",
      "\u001b[0;32m/var/folders/gp/1_dqbwsn08sbtf7s0k5q2lsc0000gn/T/ipykernel_55632/159704146.py\u001b[0m in \u001b[0;36m<module>\u001b[0;34m\u001b[0m\n\u001b[0;32m----> 1\u001b[0;31m \u001b[0mnews\u001b[0m \u001b[0;34m=\u001b[0m \u001b[0masyncio\u001b[0m\u001b[0;34m.\u001b[0m\u001b[0mrun\u001b[0m\u001b[0;34m(\u001b[0m\u001b[0mfetch_all_news_data_async\u001b[0m\u001b[0;34m(\u001b[0m\u001b[0mrequest_param\u001b[0m\u001b[0;34m=\u001b[0m\u001b[0mrequest_param\u001b[0m\u001b[0;34m)\u001b[0m\u001b[0;34m)\u001b[0m\u001b[0;34m\u001b[0m\u001b[0;34m\u001b[0m\u001b[0m\n\u001b[0m",
      "\u001b[0;32m~/opt/anaconda3/envs/feature/lib/python3.8/asyncio/runners.py\u001b[0m in \u001b[0;36mrun\u001b[0;34m(main, debug)\u001b[0m\n\u001b[1;32m     31\u001b[0m     \"\"\"\n\u001b[1;32m     32\u001b[0m     \u001b[0;32mif\u001b[0m \u001b[0mevents\u001b[0m\u001b[0;34m.\u001b[0m\u001b[0m_get_running_loop\u001b[0m\u001b[0;34m(\u001b[0m\u001b[0;34m)\u001b[0m \u001b[0;32mis\u001b[0m \u001b[0;32mnot\u001b[0m \u001b[0;32mNone\u001b[0m\u001b[0;34m:\u001b[0m\u001b[0;34m\u001b[0m\u001b[0;34m\u001b[0m\u001b[0m\n\u001b[0;32m---> 33\u001b[0;31m         raise RuntimeError(\n\u001b[0m\u001b[1;32m     34\u001b[0m             \"asyncio.run() cannot be called from a running event loop\")\n\u001b[1;32m     35\u001b[0m \u001b[0;34m\u001b[0m\u001b[0m\n",
      "\u001b[0;31mRuntimeError\u001b[0m: asyncio.run() cannot be called from a running event loop"
     ]
    }
   ],
   "source": [
    "news = asyncio.run(fetch_all_news_data_async(request_param=request_param))"
   ]
  },
  {
   "cell_type": "code",
   "execution_count": 20,
   "metadata": {},
   "outputs": [],
   "source": [
    "# db.close()"
   ]
  },
  {
   "cell_type": "code",
   "execution_count": null,
   "metadata": {},
   "outputs": [],
   "source": [
    "stock_ticker = "
   ]
  },
  {
   "cell_type": "code",
   "execution_count": null,
   "metadata": {},
   "outputs": [],
   "source": []
  },
  {
   "cell_type": "markdown",
   "metadata": {},
   "source": [
    "# Get the Latest News Date"
   ]
  },
  {
   "cell_type": "code",
   "execution_count": 7,
   "metadata": {},
   "outputs": [],
   "source": [
    "# Dependency\n",
    "def get_db():\n",
    "    db = SessionLocal()\n",
    "    try:\n",
    "        yield db\n",
    "    finally:\n",
    "        db.close()"
   ]
  },
  {
   "cell_type": "code",
   "execution_count": 3,
   "metadata": {},
   "outputs": [],
   "source": [
    "db = SessionLocal()"
   ]
  },
  {
   "cell_type": "code",
   "execution_count": 4,
   "metadata": {},
   "outputs": [],
   "source": [
    "news = crud.get_last_news(db, \"AMG\")"
   ]
  },
  {
   "cell_type": "code",
   "execution_count": 10,
   "metadata": {},
   "outputs": [],
   "source": [
    "date = news[\"date\"]"
   ]
  },
  {
   "cell_type": "code",
   "execution_count": 13,
   "metadata": {},
   "outputs": [
    {
     "data": {
      "text/plain": [
       "'14/01/2021'"
      ]
     },
     "execution_count": 13,
     "metadata": {},
     "output_type": "execute_result"
    }
   ],
   "source": [
    "date.strftime(\"%d/%m/%Y\")"
   ]
  },
  {
   "cell_type": "code",
   "execution_count": 21,
   "metadata": {},
   "outputs": [],
   "source": [
    "start_date = (date + datetime.timedelta(days=1)).replace(hour = 0, minute = 1, second = 0)"
   ]
  },
  {
   "cell_type": "code",
   "execution_count": 24,
   "metadata": {},
   "outputs": [
    {
     "data": {
      "text/plain": [
       "datetime.datetime(2021, 1, 15, 0, 1)"
      ]
     },
     "execution_count": 24,
     "metadata": {},
     "output_type": "execute_result"
    }
   ],
   "source": [
    "start_date"
   ]
  },
  {
   "cell_type": "code",
   "execution_count": 23,
   "metadata": {},
   "outputs": [],
   "source": [
    "db.close()"
   ]
  },
  {
   "cell_type": "markdown",
   "metadata": {},
   "source": [
    "# Test 1"
   ]
  },
  {
   "cell_type": "code",
   "execution_count": 4,
   "metadata": {},
   "outputs": [
    {
     "name": "stdout",
     "output_type": "stream",
     "text": [
      "101 102\n"
     ]
    },
    {
     "ename": "RuntimeError",
     "evalue": "asyncio.run() cannot be called from a running event loop",
     "output_type": "error",
     "traceback": [
      "\u001b[0;31m---------------------------------------------------------------------------\u001b[0m",
      "\u001b[0;31mRuntimeError\u001b[0m                              Traceback (most recent call last)",
      "\u001b[0;32m/var/folders/gp/1_dqbwsn08sbtf7s0k5q2lsc0000gn/T/ipykernel_57316/2810517348.py\u001b[0m in \u001b[0;36m<module>\u001b[0;34m\u001b[0m\n\u001b[1;32m     62\u001b[0m \u001b[0mstart_date\u001b[0m \u001b[0;34m=\u001b[0m \u001b[0;34m(\u001b[0m\u001b[0mdatetime\u001b[0m\u001b[0;34m.\u001b[0m\u001b[0mdatetime\u001b[0m\u001b[0;34m.\u001b[0m\u001b[0mtoday\u001b[0m\u001b[0;34m(\u001b[0m\u001b[0;34m)\u001b[0m \u001b[0;34m-\u001b[0m \u001b[0mtimedelta\u001b[0m\u001b[0;34m(\u001b[0m\u001b[0mweeks\u001b[0m\u001b[0;34m=\u001b[0m\u001b[0mno_weeks\u001b[0m\u001b[0;34m)\u001b[0m\u001b[0;34m)\u001b[0m\u001b[0;34m.\u001b[0m\u001b[0mstrftime\u001b[0m\u001b[0;34m(\u001b[0m\u001b[0;34m\"%Y-%m-%d\"\u001b[0m\u001b[0;34m)\u001b[0m\u001b[0;34m\u001b[0m\u001b[0;34m\u001b[0m\u001b[0m\n\u001b[1;32m     63\u001b[0m \u001b[0;34m\u001b[0m\u001b[0m\n\u001b[0;32m---> 64\u001b[0;31m \u001b[0mnews\u001b[0m \u001b[0;34m=\u001b[0m \u001b[0masyncio\u001b[0m\u001b[0;34m.\u001b[0m\u001b[0mrun\u001b[0m\u001b[0;34m(\u001b[0m\u001b[0mfetch_all_news_data_async\u001b[0m\u001b[0;34m(\u001b[0m\u001b[0mdf\u001b[0m\u001b[0;34m,\u001b[0m \u001b[0mstart_date\u001b[0m\u001b[0;34m)\u001b[0m\u001b[0;34m)\u001b[0m\u001b[0;34m\u001b[0m\u001b[0;34m\u001b[0m\u001b[0m\n\u001b[0m\u001b[1;32m     65\u001b[0m \u001b[0mnews_df\u001b[0m \u001b[0;34m=\u001b[0m \u001b[0mprocess_news_data\u001b[0m\u001b[0;34m(\u001b[0m\u001b[0mnews\u001b[0m\u001b[0;34m)\u001b[0m\u001b[0;34m\u001b[0m\u001b[0;34m\u001b[0m\u001b[0m\n\u001b[1;32m     66\u001b[0m \u001b[0;34m\u001b[0m\u001b[0m\n",
      "\u001b[0;32m~/opt/anaconda3/envs/feature/lib/python3.8/asyncio/runners.py\u001b[0m in \u001b[0;36mrun\u001b[0;34m(main, debug)\u001b[0m\n\u001b[1;32m     31\u001b[0m     \"\"\"\n\u001b[1;32m     32\u001b[0m     \u001b[0;32mif\u001b[0m \u001b[0mevents\u001b[0m\u001b[0;34m.\u001b[0m\u001b[0m_get_running_loop\u001b[0m\u001b[0;34m(\u001b[0m\u001b[0;34m)\u001b[0m \u001b[0;32mis\u001b[0m \u001b[0;32mnot\u001b[0m \u001b[0;32mNone\u001b[0m\u001b[0;34m:\u001b[0m\u001b[0;34m\u001b[0m\u001b[0;34m\u001b[0m\u001b[0m\n\u001b[0;32m---> 33\u001b[0;31m         raise RuntimeError(\n\u001b[0m\u001b[1;32m     34\u001b[0m             \"asyncio.run() cannot be called from a running event loop\")\n\u001b[1;32m     35\u001b[0m \u001b[0;34m\u001b[0m\u001b[0m\n",
      "\u001b[0;31mRuntimeError\u001b[0m: asyncio.run() cannot be called from a running event loop"
     ]
    }
   ],
   "source": [
    "start_idx = 101\n",
    "end_idx = 102\n",
    "print(start_idx, end_idx)\n",
    "\n",
    "API_FILE = \"api_tracker.yaml\"\n",
    "with open(API_FILE) as f:\n",
    "    generator = yaml.safe_load(f)\n",
    "    APIS = list(generator)\n",
    "    APIS = list(map(lambda x: tuple(x.items())[0], APIS))\n",
    "# for api in APIS[:2]:\n",
    "#     print(api)\n",
    "\n",
    "\n",
    "API_KEYS = [val[\"key\"] for key, val in APIS] # pass in the list of API tokens\n",
    "start_indexes = [val[\"start_index\"] for key, val in APIS] # pass in the list of start index corresponding to each API token\n",
    "# API_KEYS = [\"uvi3iw3bL4jaROoaT0TGgbu0HRr9sQc9mWyMhFCa\", \"QAtmHlReb9ZdjaicSgdpARuHGYVYJgzjYuSiFXD7\"]\n",
    "# start_indexes = [0, 100]\n",
    "no_weeks = 20 # past n weeks of data from today to be collected (need to be a sufficiently distant past)\n",
    "\n",
    "stocks = []\n",
    "try:\n",
    "  db = SessionLocal()\n",
    "  sql_query = f'''\n",
    "    SELECT *\n",
    "    FROM (SELECT ROW_NUMBER() OVER (ORDER BY ticker) as idx, ticker \n",
    "      FROM stocks) as t\n",
    "    WHERE idx BETWEEN {start_idx} AND {end_idx};\n",
    "  '''\n",
    "  stocks = db.execute(sql_query).all()\n",
    "  # request_param = get_request_param(APIS, stocks)\n",
    "  # print(\"Length of request param:\",len(request_param))\n",
    "  # print(request_param[:2])\n",
    "finally:\n",
    "  db.close()\n",
    "# print(stocks)\n",
    "df = pd.DataFrame(stocks, columns=[\"index\", 'ticker']).set_index(\"index\")\n",
    "# print(df)\n",
    "\n",
    "# df[\"start_date\"] = np.nan\n",
    "# print(df.head(5))\n",
    "\n",
    "# try:\n",
    "#     db = SessionLocal()\n",
    "\n",
    "#     for idx in df.index:\n",
    "#       ticker = df.loc[idx, \"ticker\"]\n",
    "#       news = crud.get_last_news(db, ticker)\n",
    "#       if len(news) == 0:\n",
    "#         date = None\n",
    "#         start_date = (datetime.datetime.today() - timedelta(weeks=2)).replace(hour=0, minute=1, second=0)\n",
    "#       else:\n",
    "#         date = news[\"date\"]\n",
    "#         # date.strftime(\"%Y-%m-%d\")\n",
    "#         start_date = (date + timedelta(days=1)).replace(hour = 0, minute = 1, second = 0)\n",
    "#       print(ticker, date, start_date)\n",
    "#       df.loc[idx, \"start_date\"] = start_date  \n",
    "# finally:\n",
    "#   db.close()\n",
    "# print(\"Insert start dates\")\n",
    "# print(df.head(5))\n",
    "\n",
    "start_date = (datetime.datetime.today() - timedelta(weeks=no_weeks)).strftime(\"%Y-%m-%d\")\n",
    "\n",
    "news = asyncio.run(fetch_all_news_data_async(df, start_date))\n",
    "news_df = process_news_data(news)\n",
    "\n",
    "csv_name = f\"test_data/marketaux_newsdata_async.csv\"\n",
    "filename = csv_name"
   ]
  },
  {
   "cell_type": "markdown",
   "metadata": {},
   "source": []
  },
  {
   "cell_type": "code",
   "execution_count": null,
   "metadata": {},
   "outputs": [],
   "source": []
  }
 ],
 "metadata": {
  "kernelspec": {
   "display_name": "Python 3.8.12 ('feature')",
   "language": "python",
   "name": "python3"
  },
  "language_info": {
   "codemirror_mode": {
    "name": "ipython",
    "version": 3
   },
   "file_extension": ".py",
   "mimetype": "text/x-python",
   "name": "python",
   "nbconvert_exporter": "python",
   "pygments_lexer": "ipython3",
   "version": "3.8.12"
  },
  "orig_nbformat": 4,
  "vscode": {
   "interpreter": {
    "hash": "7a6674941c1853e0d0f170b80a12cf7984bffc607ed027d31385c7a96638a0b7"
   }
  }
 },
 "nbformat": 4,
 "nbformat_minor": 2
}
